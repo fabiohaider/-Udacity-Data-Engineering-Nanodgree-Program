{
 "cells": [
  {
   "cell_type": "markdown",
   "metadata": {
    "editable": true,
    "pycharm": {
     "name": "#%% md\n"
    }
   },
   "source": [
    "# The Effect of Pollution on Temperature Change\n",
    "## New York City US"
   ]
  },
  {
   "cell_type": "code",
   "execution_count": null,
   "metadata": {
    "collapsed": false,
    "editable": true,
    "jupyter": {
     "outputs_hidden": false
    },
    "pycharm": {
     "name": "#%%\n"
    }
   },
   "outputs": [],
   "source": [
    "# hide warnings\n",
    "import warnings\n",
    "warnings.simplefilter(\"ignore\")\n",
    "\n",
    "import pandas as pd\n",
    "import matplotlib.pyplot as plt\n",
    "import numpy as np\n",
    "from statsmodels.tsa.stattools import adfuller\n",
    "from statsmodels.graphics.tsaplots import plot_acf, plot_pacf\n",
    "from statsmodels.tsa.arima_model import ARIMA, ARMAResults\n",
    "from sklearn.metrics import mean_squared_error\n",
    "import ipywidgets as widgets\n",
    "import plotly.plotly as py\n",
    "from plotly.offline import download_plotlyjs, init_notebook_mode, plot, iplot\n",
    "import plotly.graph_objs as go\n",
    "init_notebook_mode(connected=True)\n",
    "import seaborn as sns\n",
    "\n",
    "\n",
    "j3_norm = pd.read_parquet('data/out/PollutionTemperatureChange.parquet')\n",
    "\n",
    "# Plotting the data\n",
    "trace0 = go.Scatter(\n",
    "    x = j3_norm.index,\n",
    "    y = j3_norm['AverageTemperature'],\n",
    "    mode = 'lines',\n",
    "    name = 'Temperature'\n",
    ")\n",
    "\n",
    "trace1 = go.Scatter(\n",
    "    x = j3_norm.index,\n",
    "    y = j3_norm['CO AQI'],\n",
    "    mode = 'lines',\n",
    "    name = 'Carbon Monoxide'\n",
    ")\n",
    "\n",
    "trace3 = go.Scatter(\n",
    "    x = j3_norm.index,\n",
    "    y = j3_norm['SO2 AQI'],\n",
    "    mode = 'lines',\n",
    "    name = 'Sulphur Dioxide'\n",
    ")\n",
    "\n",
    "trace4 = go.Scatter(\n",
    "    x = j3_norm.index,\n",
    "    y = j3_norm['NO2 AQI'],\n",
    "    mode = 'lines',\n",
    "    name = 'Nitrogen Dioxide'\n",
    ")\n",
    "\n",
    "layout = go.Layout(\n",
    "    title='Temperature and Pollution Plots',\n",
    "    xaxis=dict(\n",
    "        title='Year',\n",
    "    ),\n",
    "    yaxis=dict(\n",
    "        title='Normalized Values',\n",
    "    )\n",
    ")\n",
    "\n",
    "data = [trace0,trace1,trace3,trace4]\n",
    "fig = go.Figure(data=data, layout=layout)\n",
    "iplot(fig)\n",
    "\n",
    "# Plotting the correlation matrix for Pollution vs. Temperature\n",
    "\n",
    "fig = plt.figure(dpi = 75)\n",
    "\n",
    "ax = fig.add_axes([0.1, 0.1, 0.75, 0.8])\n",
    "sns.heatmap(j3_norm.corr(method='pearson'), annot = True, cmap=\"YlGnBu\")\n",
    "ax.set_title(\"Correlation of Pollution with Temperature in 2013\", fontsize=10)\n",
    "plt.show()"
   ]
  }
 ],
 "metadata": {
  "kernelspec": {
   "display_name": "Python 3",
   "language": "python",
   "name": "python3"
  },
  "language_info": {
   "codemirror_mode": {
    "name": "ipython",
    "version": 3
   },
   "file_extension": ".py",
   "mimetype": "text/x-python",
   "name": "python",
   "nbconvert_exporter": "python",
   "pygments_lexer": "ipython3",
   "version": "3.6.3"
  }
 },
 "nbformat": 4,
 "nbformat_minor": 4
}